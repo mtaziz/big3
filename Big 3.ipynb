{
 "cells": [
  {
   "cell_type": "markdown",
   "metadata": {},
   "source": [
    "## Big 3 statistics"
   ]
  },
  {
   "cell_type": "markdown",
   "metadata": {},
   "source": [
    "### uslisted.txt: Downloaded from Orbis, file containing the following fields:\n",
    "- 'Company name'\n",
    "- 'Country ISO Code',\n",
    "- 'NACE Rev. 2 Core code (4 digits)',\n",
    "- 'Operating revenue (Turnover) th USD Last avail. yr',\n",
    "- 'Number of employees Last avail. yr', \n",
    "- 'GUO - Name', \n",
    "- 'Ticker symbol',\n",
    "- 'Stock exchange(s) listed', \n",
    "- 'Shareholder - BvD ID number',\n",
    "- 'Shareholder - Direct %', \n",
    "- 'Shareholder - Total %', 'BvD ID number',\n",
    "- 'Current market capitalisation th USD', \n",
    "- 'Shareholder - Name',\n",
    "- 'Total assets (last value) th USD', \n",
    "- 'Type of entity'\n",
    "\n",
    "#### IMPORTANT: This data is not provided, only the end result. big3_position.csv, that can be used to replicate all figures (step 3-5).  big3_position.csv has the following data:\n",
    "- Company_name:\n",
    "- Company_ID: Orbis ID\n",
    "- Big3Share: Share of the big3 together\n",
    "- Position: Position of the big 3 among all shareholders\n",
    "- Revenue: Firm's revenue\n",
    "- Assets: Firm's assets\n",
    "- Employees: Firm's number of employees\n",
    "- MarketCap: Firm's market capitalization\n",
    "- Exchange: Firm's exchange\n",
    "- TypeEnt: Firm's type of entity\n",
    "\n",
    "\n",
    "\n",
    "### We excluded:\n",
    "- Non-US exhanges and private US exchanges. The exchanges that were remaining were:  \"'NYSE MKT','NYSE ARCA','NASDAQ/NMS (Global Market)','NASDAQ National Market', 'New York Stock Exchange (NYSE)'\n",
    "- Private equity firms and Funds. We added JPMORGAN CHASE & CO (BvD ID US132624428) by hand since Orbis has mistakenly classified this very large US bank as a Private Equity firm.\n",
    "- US041867445 (State Street Bank and Trust Co) because this subsidiary of State Street acts as a custodian, holding the shares for the ultimate owners. \n",
    "- Public ownership (many small ownership combines) and owners whose ID start by ZZ (no people or companies).\n"
   ]
  },
  {
   "cell_type": "code",
   "execution_count": 10,
   "metadata": {
    "collapsed": false
   },
   "outputs": [
    {
     "name": "stdout",
     "output_type": "stream",
     "text": [
      "Requirement already up-to-date: pip in /home/shared/anaconda3/lib/python3.5/site-packages\n",
      "Requirement already satisfied (use --upgrade to upgrade): pandas in /home/shared/anaconda3/lib/python3.5/site-packages\n",
      "Requirement already satisfied (use --upgrade to upgrade): python-dateutil>=2 in /home/shared/anaconda3/lib/python3.5/site-packages (from pandas)\n",
      "Requirement already satisfied (use --upgrade to upgrade): pytz>=2011k in /home/shared/anaconda3/lib/python3.5/site-packages (from pandas)\n",
      "Requirement already satisfied (use --upgrade to upgrade): numpy>=1.7.0 in /home/shared/anaconda3/lib/python3.5/site-packages (from pandas)\n",
      "Requirement already satisfied (use --upgrade to upgrade): six>=1.5 in /home/shared/anaconda3/lib/python3.5/site-packages (from python-dateutil>=2->pandas)\n",
      "Requirement already satisfied (use --upgrade to upgrade): numpy in /home/shared/anaconda3/lib/python3.5/site-packages\n"
     ]
    }
   ],
   "source": [
    "#Install libraries needed\n",
    "!pip install --upgrade pip\n",
    "!pip install pandas\n",
    "!pip install numpy"
   ]
  },
  {
   "cell_type": "code",
   "execution_count": 8,
   "metadata": {
    "collapsed": false
   },
   "outputs": [],
   "source": [
    "#Import libraries needed\n",
    "import pandas as pd\n",
    "import numpy as np\n",
    "from collections import Counter"
   ]
  },
  {
   "cell_type": "markdown",
   "metadata": {},
   "source": [
    "#### Show types of companies"
   ]
  },
  {
   "cell_type": "code",
   "execution_count": 111,
   "metadata": {
    "collapsed": false
   },
   "outputs": [
    {
     "data": {
      "text/plain": [
       "Counter({'Bank': 448,\n",
       "         'Financial company': 337,\n",
       "         'Foundation/Research institute': 3,\n",
       "         'Industrial company': 3002,\n",
       "         'Insurance company': 96,\n",
       "         'Mutual and pension fund/Nominee/Trust/Trustee': 932,\n",
       "         'Private equity firm': 38,\n",
       "         'Venture capital': 5})"
      ]
     },
     "execution_count": 111,
     "metadata": {},
     "output_type": "execute_result"
    }
   ],
   "source": [
    "df = pd.read_csv(\"uslisted.txt\",encoding=\"utf-16\",sep=\"\\t\",na_values = [\"-\",\"n.a.\"],thousands=\",\")\n",
    "df = df.loc[df[\"Stock exchange(s) listed\"].\n",
    "            isin([ 'NYSE MKT','NYSE ARCA','NASDAQ/NMS (Global Market)','NASDAQ National Market',\n",
    "                  'New York Stock Exchange (NYSE)'])]\n",
    "df = df.drop_duplicates(subset=\"BvD ID number\")\n",
    "c= Counter(df[\"Type of entity\"])\n",
    "c"
   ]
  },
  {
   "cell_type": "markdown",
   "metadata": {},
   "source": [
    "## Step 1. Include only publicly listed companies from the US\n",
    "- Keep only larger shareholder percentage between direct and total shareholder percentages\n",
    "- In case of a name code instead of percentage convert as follow: {\"NG\": 0.01,\"MO\": 50.01, \"WO\": 98.01, \"GP\": 50.01,\">50.00\":50.01}"
   ]
  },
  {
   "cell_type": "code",
   "execution_count": 19,
   "metadata": {
    "collapsed": false
   },
   "outputs": [
    {
     "name": "stderr",
     "output_type": "stream",
     "text": [
      "/home/shared/anaconda3/lib/python3.5/site-packages/numpy/lib/nanfunctions.py:326: RuntimeWarning: All-NaN slice encountered\n",
      "  warnings.warn(\"All-NaN slice encountered\", RuntimeWarning)\n"
     ]
    }
   ],
   "source": [
    "df = pd.read_csv(\"uslisted.txt\",encoding=\"utf-16\",sep=\"\\t\",na_values = [\"-\",\"n.a.\"],thousands=\",\")\n",
    "df = df.loc[df[\"Stock exchange(s) listed\"].isin([ 'NYSE MKT','NYSE ARCA','NASDAQ/NMS (Global Market)','NASDAQ National Market','New York Stock Exchange (NYSE)'])]\n",
    "df = df.loc[df[\"Type of entity\"].isin(['Foundation/Research institute', 'Bank', 'Venture capital', 'Financial company', \n",
    "                                'Industrial company', 'Insurance company']),:]\n",
    "df = df.loc[df[\"Shareholder - BvD ID number\"] != \"US041867445\",:]\n",
    "df = df.loc[df[\"Shareholder - Name\"] != \"PUBLIC\",:]\n",
    "\n",
    "\n",
    "companies = df.loc[:,[\"Company name\",\"BvD ID number\",\"Operating revenue (Turnover) th USD Last avail. yr\",\n",
    "                \"Total assets (last value) th USD\",'Number of employees Last avail. yr',\n",
    "                \"Current market capitalisation th USD\",\"Stock exchange(s) listed\",\"Type of entity\"]].drop_duplicates()\n",
    "ownership = df.loc[:,[\"Company name\",\"BvD ID number\",\"Shareholder - Name\",\"Shareholder - BvD ID number\",\n",
    "                \"Shareholder - Direct %\",\"Shareholder - Total %\"]]\n",
    "\n",
    "        \n",
    "\n",
    "d = {np.NaN: np.NaN,\"NG\": 0.01,\"MO\": 50.01, \"WO\": 98.01, \"GP\": 50.01,\">50.00\":50.01}\n",
    "\n",
    "\n",
    "#NG:0 MO: 50.01 WO: 98.1 GP\"\n",
    "for i in sorted([_ for _ in set(ownership[\"Shareholder - Direct %\"]) | set(ownership[\"Shareholder - Total %\"]) if isinstance(_,str)]):\n",
    "    if not d.get(i): \n",
    "        try:\n",
    "            d[i] = float(i)\n",
    "        except:\n",
    "            d[i] = float(i[1:])\n",
    "ownership[\"Shareholder - Direct %\"] = ownership[\"Shareholder - Direct %\"].apply(lambda x: d[x])\n",
    "ownership[\"Shareholder - Total %\"] = ownership[\"Shareholder - Total %\"].apply(lambda x: d[x])\n",
    "\n",
    "ownership[\"max\"] = ownership.apply(lambda x: np.nanmax([x[\"Shareholder - Direct %\"],x[\"Shareholder - Total %\"]]),axis=1)"
   ]
  },
  {
   "cell_type": "markdown",
   "metadata": {},
   "source": [
    "## Step2: Create file with the sum of big3 and the largest shareholder"
   ]
  },
  {
   "cell_type": "code",
   "execution_count": 20,
   "metadata": {
    "collapsed": false
   },
   "outputs": [],
   "source": [
    "#\"US041867445\"\n",
    "with open(\"big3_position.csv\",\"w+\") as f:\n",
    "    f.write(\"{}\\t{}\\t{}\\t{}\\t{}\\t{}\\t{}\\t{}\\t{}\\t{}\\n\".\n",
    "            format(\"Company_name\",\"Company_ID\",\"Big3Share\",\"Position\",\"Revenue\",\"Assets\",\"Employees\",\"MarketCap\",\"Exchange\",\"TypeEnt\"))\n",
    "    for id,g in ownership.groupby(\"BvD ID number\"):\n",
    "        sum_big3 = g.loc[g[\"Shareholder - BvD ID number\"].isin(['US149144472L', 'US320174431', 'US042456637']),\"max\"].sum()\n",
    "        t = g.loc[g[\"Shareholder - BvD ID number\"] != \"US041867445\",:].sort_values(by=\"max\",ascending=False,na_position=\"last\")\n",
    "        if sum_big3 == 0: position = 100\n",
    "        else: position = 1\n",
    "        for i,values in t.iterrows():\n",
    "            if isinstance(values[\"Shareholder - BvD ID number\"],float): continue\n",
    "            if values.values[3][:2] != \"ZZ\":\n",
    "                if values.values[-1] >=sum_big3: position+=1\n",
    "                else: break\n",
    "        r,a,e,m,exchange,typeent = companies.loc[companies[\"BvD ID number\"] == values[\"BvD ID number\"],:].values[0][-6:]\n",
    "        #print(companies.loc[companies[\"BvD ID number\"] == values[\"BvD ID number\"],:].values[0])\n",
    "        \n",
    "        f.write(\"{}\\t{}\\t{}\\t{}\\t{}\\t{}\\t{}\\t{}\\t{}\\t{}\\n\".format(values[\"Company name\"],values[\"BvD ID number\"],sum_big3,position,r,a,e,m,exchange,typeent))\n",
    "        "
   ]
  },
  {
   "cell_type": "markdown",
   "metadata": {},
   "source": [
    "## Step 3: Print stats to create the figure on ownership A and B"
   ]
  },
  {
   "cell_type": "code",
   "execution_count": 21,
   "metadata": {
    "collapsed": false,
    "scrolled": true
   },
   "outputs": [
    {
     "name": "stdout",
     "output_type": "stream",
     "text": [
      "Percentage of companies and percentage of market capitalization\n",
      "42.8129829985 77.90619792198156\n",
      "8.65533230294 10.097049721301994\n",
      "7.5476558475 6.306088395705048\n",
      "40.9840288511 5.6906639610114595\n",
      "\n",
      "Number of companies and capitalization (billions)\n",
      "1662 17258.42913\n",
      "336 2236.78246\n",
      "293 1396.977167\n",
      "1591.0 1260.643226\n",
      "\n"
     ]
    },
    {
     "data": {
      "text/plain": [
       "[(1, 1662),\n",
       " (2, 336),\n",
       " (3, 293),\n",
       " (4, 210),\n",
       " (5, 166),\n",
       " (6, 117),\n",
       " (7, 97),\n",
       " (8, 88),\n",
       " (10, 75),\n",
       " (11, 72)]"
      ]
     },
     "execution_count": 21,
     "metadata": {},
     "output_type": "execute_result"
    }
   ],
   "source": [
    "df = pd.read_csv(\"big3_position.csv\",sep=\"\\t\")\n",
    "from collections import Counter\n",
    "c = Counter(df[\"Position\"])\n",
    "\n",
    "sumc = np.sum([c[_] for _ in range(0,1007)])/100\n",
    "print(\"Percentage of companies and percentage of market capitalization\")\n",
    "print(c[1]/sumc,100*np.sum(df.loc[df[\"Position\"] == 1,\"MarketCap\"]/np.sum(df[\"MarketCap\"])))\n",
    "print(c[2]/sumc,100*np.sum(df.loc[df[\"Position\"] == 2,\"MarketCap\"]/np.sum(df[\"MarketCap\"])))\n",
    "print(c[3]/sumc,100*np.sum(df.loc[df[\"Position\"] == 3,\"MarketCap\"]/np.sum(df[\"MarketCap\"])))\n",
    "print((np.sum([c[_] for _ in range(4,1007)])/sumc),\n",
    "      (100*np.sum(df.loc[~df[\"Position\"].isin([1,2,3]),\"MarketCap\"]/np.sum(df[\"MarketCap\"]))))\n",
    "print()\n",
    "print(\"Number of companies and capitalization (billions)\")\n",
    "print(c[1],np.sum(df.loc[df[\"Position\"] == 1,\"MarketCap\"])*1000/1E9)\n",
    "print(c[2],np.sum(df.loc[df[\"Position\"] == 2,\"MarketCap\"])*1000/1E9)\n",
    "print(c[3],np.sum(df.loc[df[\"Position\"] == 3,\"MarketCap\"])*1000/1E9)\n",
    "print(sumc*100-c[1]-c[2]-c[3], (np.sum(df[\"MarketCap\"])\n",
    "      -np.sum(df.loc[df[\"Position\"] == 1,\"MarketCap\"])\n",
    "      -np.sum(df.loc[df[\"Position\"] == 2,\"MarketCap\"])\n",
    "      -np.sum(df.loc[df[\"Position\"] == 3,\"MarketCap\"]))*1000/1E9)\n",
    "print()\n",
    "\n",
    "c.most_common(10)"
   ]
  },
  {
   "cell_type": "markdown",
   "metadata": {},
   "source": [
    "## Step 4: Create percentages for figure on ownership C"
   ]
  },
  {
   "cell_type": "code",
   "execution_count": 24,
   "metadata": {
    "collapsed": false
   },
   "outputs": [
    {
     "name": "stdout",
     "output_type": "stream",
     "text": [
      "Ownership of each member of the big three and sum of means\n",
      "7.018266908212566 7.6068421052631665 3.0280876979293576 17.65319671140509\n",
      "4.533942028985508 5.1637681159420294 1.8135483870967744 11.511258532024312\n",
      "3.733272727272727 4.224657534246572 1.4846963562753035 9.442626617794602\n",
      "1.9575968109339408 2.059178217821779 0.8350976562499998 4.851872685005719\n",
      "\n",
      "Mean of sum of Ownership of each member of the big three\n",
      "17.637190132370637\n",
      "11.630684523809517\n",
      "8.965767918088739\n",
      "2.656260213702078\n"
     ]
    }
   ],
   "source": [
    "print(\"Ownership of each member of the big three and sum of means\")\n",
    "for i in [1,2,3]:\n",
    "    df2 = df.loc[df[\"Position\"] == i,:]\n",
    "    o = pd.merge(ownership,companies,on=\"BvD ID number\")\n",
    "    o = pd.merge(o,df2,left_on=\"BvD ID number\",right_on=\"Company_ID\")\n",
    "    o[\"x\"] = o[\"max\"]*o[\"Current market capitalisation th USD\"]\n",
    "\n",
    "    v = o.loc[o[\"Shareholder - BvD ID number\"] == 'US149144472L',\"max\"].mean() #V\n",
    "    b = o.loc[o[\"Shareholder - BvD ID number\"] ==  'US320174431',\"max\"].mean() #BLK\n",
    "    s = o.loc[o[\"Shareholder - BvD ID number\"] == 'US042456637',\"max\"].mean() #SS\n",
    "\n",
    "    print(1*v,1*b,1*s,1*(v+b+s))\n",
    "\n",
    "df2 = df.loc[~df[\"Position\"].isin([1,2,3]),:]\n",
    "o = pd.merge(ownership,companies,on=\"BvD ID number\")\n",
    "o = pd.merge(o,df2,left_on=\"BvD ID number\",right_on=\"Company_ID\")\n",
    "o[\"x\"] = o[\"max\"]*o[\"Current market capitalisation th USD\"]\n",
    "\n",
    "v = o.loc[o[\"Shareholder - BvD ID number\"] == 'US149144472L',\"max\"].mean() #V\n",
    "b = o.loc[o[\"Shareholder - BvD ID number\"] ==  'US320174431',\"max\"].mean() #BLK\n",
    "s = o.loc[o[\"Shareholder - BvD ID number\"] == 'US042456637',\"max\"].mean() #SS\n",
    "\n",
    "print(1*v,1*b,1*s,1*(v+b+s))\n",
    "print()\n",
    "\n",
    "print(\"Mean of sum of Ownership of each member of the big three\")\n",
    "for i in [1,2,3]:\n",
    "    print(1*df.loc[df[\"Position\"] == i,\"Big3Share\"].mean())\n",
    "    \n",
    "print(1*df.loc[~df[\"Position\"].isin([1,2,3]),\"Big3Share\"].mean())"
   ]
  },
  {
   "cell_type": "markdown",
   "metadata": {},
   "source": [
    "## Step 5: Create network of ownership based on position in the network"
   ]
  },
  {
   "cell_type": "code",
   "execution_count": 29,
   "metadata": {
    "collapsed": false
   },
   "outputs": [
    {
     "name": "stdout",
     "output_type": "stream",
     "text": [
      "False\n",
      "False\n"
     ]
    }
   ],
   "source": [
    "df = pd.read_csv(\"big3_position.csv\",sep=\"\\t\")\n",
    "\n",
    "endogenous_own = ownership.copy()\n",
    "                                                                                  \n",
    "endogenous_own = endogenous_own.loc[endogenous_own[\"max\"]>=3.]\n",
    "endogenous_own = endogenous_own.loc[endogenous_own[\"BvD ID number\"] != endogenous_own[\"Shareholder - BvD ID number\"],:]\n",
    "edges = endogenous_own.loc[:,[\"BvD ID number\",\"Shareholder - BvD ID number\",\"max\"]]\n",
    "\n",
    "edges.columns = [\"Source\",\"Target\",\"Weight\"]\n",
    "edges[\"Type\"] = \"Directed\"\n",
    "\n",
    "\n",
    "e1 = endogenous_own[[\"BvD ID number\",\"Company name\"]]\n",
    "e1.columns = [\"Id\",\"Label\"]\n",
    "e2 = endogenous_own[[\"Shareholder - BvD ID number\",\"Shareholder - Name\"]]\n",
    "e2.columns = [\"Id\",\"Label\"]\n",
    "nodes = pd.concat([e1,e2]).drop_duplicates()\n",
    "nodes = pd.merge(nodes,df,left_on=\"Id\",right_on=\"Company_ID\")\n",
    "\n",
    "nodes = nodes[[\"Id\",\"Label\",\"Position\",\"Exchange\",\"TypeEnt\"]]\n",
    "\n",
    "for i in range(4,1000):\n",
    "    d[i] = 4\n",
    "d[1] = 1\n",
    "d[2] = 2\n",
    "d[3] = 3\n",
    "    \n",
    "\n",
    "nodes[\"Position\"] = nodes[\"Position\"].apply(lambda x: d[x])\n",
    "\n",
    "nodes.loc[nodes[\"Id\"] == \"US320174431\",\"Position\"] = 0\n",
    "nodes.loc[nodes[\"Id\"] == \"US042456637\",\"Position\"] = 0\n",
    "#VAnguard and FMR added by hand to have their names in the file\n",
    "nodes.loc[122312] = [\"US149144472L\",\"VANGUARD INC via its funds\",0,\"None\",\"Bank\"]\n",
    "nodes.loc[122313] = [\"US126246544L\",\"FMR LLC\",0,\"None\",\"Bank\"]\n",
    "\n",
    "nodes.to_csv(\"nodes_allmarket.csv\",sep=\"\\t\",index = None)\n",
    "edges.to_csv(\"edges_allmarket.csv\",sep=\"\\t\",index = None)\n"
   ]
  },
  {
   "cell_type": "code",
   "execution_count": null,
   "metadata": {
    "collapsed": true
   },
   "outputs": [],
   "source": []
  },
  {
   "cell_type": "code",
   "execution_count": null,
   "metadata": {
    "collapsed": true
   },
   "outputs": [],
   "source": []
  }
 ],
 "metadata": {
  "kernelspec": {
   "display_name": "Python 3",
   "language": "python",
   "name": "python3"
  },
  "language_info": {
   "codemirror_mode": {
    "name": "ipython",
    "version": 3
   },
   "file_extension": ".py",
   "mimetype": "text/x-python",
   "name": "python",
   "nbconvert_exporter": "python",
   "pygments_lexer": "ipython3",
   "version": "3.5.1"
  }
 },
 "nbformat": 4,
 "nbformat_minor": 0
}
